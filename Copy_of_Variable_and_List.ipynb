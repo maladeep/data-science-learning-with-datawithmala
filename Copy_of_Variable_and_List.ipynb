{
  "nbformat": 4,
  "nbformat_minor": 0,
  "metadata": {
    "colab": {
      "provenance": []
    },
    "kernelspec": {
      "name": "python3",
      "display_name": "Python 3"
    },
    "language_info": {
      "name": "python"
    }
  },
  "cells": [
    {
      "cell_type": "markdown",
      "source": [
        "# 🧠 Concept: Variables and Lists in Python\n",
        "\n",
        "## 🔹 What is a Variable?\n",
        "\n",
        "A variable is a name that stores data. You can think of it like a box that holds something — a number, text, or even a list of things."
      ],
      "metadata": {
        "id": "Yt8DWMwvdFk2"
      }
    },
    {
      "cell_type": "code",
      "source": [
        "name = \"Aarav\"\n",
        "age = 21"
      ],
      "metadata": {
        "id": "7gjf5O3ndL0P"
      },
      "execution_count": null,
      "outputs": []
    },
    {
      "cell_type": "markdown",
      "source": [],
      "metadata": {
        "id": "pOq_zzhJdE34"
      }
    },
    {
      "cell_type": "markdown",
      "source": [
        "# 🔹 What is a List?\n",
        "A list is a collection of items stored in a single variable. Lists are written inside square brackets [] and can store multiple values, like numbers, text, or both."
      ],
      "metadata": {
        "id": "4zKZu_1JdPFV"
      }
    },
    {
      "cell_type": "code",
      "source": [
        "my_favorite_colors = [\"Red\", \"Blue\", \"Green\"]"
      ],
      "metadata": {
        "id": "TvYR3LnKdTYZ"
      },
      "execution_count": null,
      "outputs": []
    },
    {
      "cell_type": "markdown",
      "source": [
        "You can access list items using index numbers, starting from 0:"
      ],
      "metadata": {
        "id": "yBBeoW3vdYY4"
      }
    },
    {
      "cell_type": "markdown",
      "source": [
        "# **📝 TASK: Salary Tracker**\n",
        "\n",
        "**🎯 Objective:**\n",
        "Create a list to track your salary over a few months and perform basic operations.\n",
        "\n",
        "> You need to write code below the comment\n",
        "\n"
      ],
      "metadata": {
        "id": "DInkdetgdb3H"
      }
    },
    {
      "cell_type": "code",
      "source": [
        "# Create a variable called mySalary and store 5 monthly salaries (just random numbers).\n",
        "\n",
        "mySalary = [ 1000, 1200, 1300, 1400, 1500 ]\n",
        "\n",
        "\n"
      ],
      "metadata": {
        "id": "pZbTvD_EdZcn"
      },
      "execution_count": null,
      "outputs": []
    },
    {
      "cell_type": "code",
      "source": [
        "# Print the full salary list.\n",
        "\n",
        "print(mySalary)\n",
        "\n"
      ],
      "metadata": {
        "id": "t1FB8FsOdndR",
        "colab": {
          "base_uri": "https://localhost:8080/"
        },
        "outputId": "208cc4b7-1d01-4b00-e809-5c85f3bd8dd7"
      },
      "execution_count": null,
      "outputs": [
        {
          "output_type": "stream",
          "name": "stdout",
          "text": [
            "[1000, 1200, 1300, 1400, 1500]\n"
          ]
        }
      ]
    },
    {
      "cell_type": "code",
      "source": [
        "# Print the first and the last salary. Hiny- Use index number first and last\n",
        "\n",
        "print(mySalary[0])\n",
        "print(mySalary[4])\n"
      ],
      "metadata": {
        "id": "l8Z8Cndqdpdf",
        "colab": {
          "base_uri": "https://localhost:8080/"
        },
        "outputId": "b1a0c9ba-4f4c-4e03-e741-ec9c9767cf8b"
      },
      "execution_count": null,
      "outputs": [
        {
          "output_type": "stream",
          "name": "stdout",
          "text": [
            "1000\n",
            "1500\n"
          ]
        }
      ]
    },
    {
      "cell_type": "code",
      "source": [
        "# Add one more salary to the list using .append().\n",
        "\n",
        "mySalary.append(1600)\n",
        "\n"
      ],
      "metadata": {
        "id": "3j3ECBA4dxHl"
      },
      "execution_count": null,
      "outputs": []
    },
    {
      "cell_type": "code",
      "source": [
        "# Calculate and print the average salary using sum() and len(). -> Extra Hint- average_salary = sum(mySalary) / len(mySalary)\n",
        "\n",
        "a = sum(mySalary)\n",
        "b = len(mySalary)\n",
        "averaae_salary = a/b\n",
        "print(averaae_salary)\n",
        "\n"
      ],
      "metadata": {
        "id": "DTqAO6ZgdzT-",
        "colab": {
          "base_uri": "https://localhost:8080/"
        },
        "outputId": "5b19da55-1450-4c3f-aff0-87052b1a36f9"
      },
      "execution_count": null,
      "outputs": [
        {
          "output_type": "stream",
          "name": "stdout",
          "text": [
            "1333.3333333333333\n"
          ]
        }
      ]
    },
    {
      "cell_type": "code",
      "source": [
        "# Try to remove the salary that is not in the list. See what it says.\n",
        "# Screenshot the error and add as markdown\n",
        "\n",
        "mySalary.remove(100)\n",
        "\n",
        "\n"
      ],
      "metadata": {
        "id": "3QSvTdyqd4zi",
        "colab": {
          "base_uri": "https://localhost:8080/",
          "height": 210
        },
        "outputId": "58e042e1-d151-40af-fab5-22a3328693e5"
      },
      "execution_count": null,
      "outputs": [
        {
          "output_type": "error",
          "ename": "ValueError",
          "evalue": "list.remove(x): x not in list",
          "traceback": [
            "\u001b[0;31m---------------------------------------------------------------------------\u001b[0m",
            "\u001b[0;31mValueError\u001b[0m                                Traceback (most recent call last)",
            "\u001b[0;32m<ipython-input-12-5990321b97d0>\u001b[0m in \u001b[0;36m<cell line: 0>\u001b[0;34m()\u001b[0m\n\u001b[1;32m      2\u001b[0m \u001b[0;31m# Screenshot the error and add as markdown\u001b[0m\u001b[0;34m\u001b[0m\u001b[0;34m\u001b[0m\u001b[0m\n\u001b[1;32m      3\u001b[0m \u001b[0;34m\u001b[0m\u001b[0m\n\u001b[0;32m----> 4\u001b[0;31m \u001b[0mmySalary\u001b[0m\u001b[0;34m.\u001b[0m\u001b[0mremove\u001b[0m\u001b[0;34m(\u001b[0m\u001b[0;36m100\u001b[0m\u001b[0;34m)\u001b[0m\u001b[0;34m\u001b[0m\u001b[0;34m\u001b[0m\u001b[0m\n\u001b[0m\u001b[1;32m      5\u001b[0m \u001b[0;34m\u001b[0m\u001b[0m\n\u001b[1;32m      6\u001b[0m \u001b[0;34m\u001b[0m\u001b[0m\n",
            "\u001b[0;31mValueError\u001b[0m: list.remove(x): x not in list"
          ]
        }
      ]
    },
    {
      "cell_type": "markdown",
      "source": [
        "The screenshot in markdown is given below :\n",
        "\n",
        "![Screenshot 1.jpg](data:image/jpeg;base64,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))"
      ],
      "metadata": {
        "id": "i64xG5hem1kr"
      }
    },
    {
      "cell_type": "code",
      "source": [
        "# Extra Slicing: You can access part of the list like this:\n",
        "\n",
        "# Try this code. See how it goes.\n",
        "\n",
        "print(mySalary[1:4])\n"
      ],
      "metadata": {
        "id": "8zAKkQdkeCxw",
        "colab": {
          "base_uri": "https://localhost:8080/"
        },
        "outputId": "37be04b3-2a0e-43e6-dff3-ae70eab0d438"
      },
      "execution_count": null,
      "outputs": [
        {
          "output_type": "stream",
          "name": "stdout",
          "text": [
            "[1200, 1300, 1400]\n"
          ]
        }
      ]
    }
  ]
}